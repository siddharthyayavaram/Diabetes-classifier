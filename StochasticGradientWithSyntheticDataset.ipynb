{
 "cells": [
  {
   "cell_type": "code",
   "execution_count": 2,
   "id": "887fe263",
   "metadata": {},
   "outputs": [],
   "source": [
    "import numpy as np\n",
    "from sklearn.model_selection import train_test_split\n",
    "import sklearn.metrics as metrics\n",
    "from sklearn.linear_model import LinearRegression\n",
    "import matplotlib.pyplot as plt\n",
    "import pandas as pd\n",
    "import seaborn as sns\n",
    "from sklearn.metrics import mean_squared_error, mean_absolute_error\n",
    "from sklearn.metrics import classification_report"
   ]
  },
  {
   "cell_type": "code",
   "execution_count": 3,
   "id": "f1f86d1a",
   "metadata": {},
   "outputs": [],
   "source": [
    "def standardize(column):\n",
    "    return (column - column.mean()) / column.std()\n",
    "\n",
    "def apply(X):\n",
    "    cols=list(X)\n",
    "    for i in cols:\n",
    "        X[i]=standardize(X[i])"
   ]
  },
  {
   "cell_type": "code",
   "execution_count": 5,
   "id": "814535aa",
   "metadata": {},
   "outputs": [],
   "source": [
    "df = pd.read_csv('synthetic_dataset.csv')\n",
    "df = df.set_index('Unnamed: 0')\n",
    "# df[df.drop(['Outcome'],axis=1).columns] = scaler.fit_transform(df[df.drop(['Outcome'],axis=1).columns])\n",
    "X = df.drop(['Outcome'],axis = 1)\n",
    "y = df['Outcome']\n",
    "X_train, X_test,y_train, y_test = train_test_split(X, y ,random_state=101, test_size=0.3, shuffle=True)\n",
    "apply(X_train)\n",
    "apply(X_test)"
   ]
  },
  {
   "cell_type": "code",
   "execution_count": 6,
   "id": "6c5a223b",
   "metadata": {},
   "outputs": [],
   "source": [
    "class Model:\n",
    "    y = []\n",
    "    X = []\n",
    "    w = []\n",
    "    epochs = 0\n",
    "#     alpha = 0.0001\n",
    "    features = 0\n",
    "    samples = 0\n",
    "    def __init__(self,X,y,epochs = 500,alpha=0.1):\n",
    "        self.X = np.hstack((np.ones((X.shape[0],1)),X))\n",
    "        self.y = np.array(y)\n",
    "        self.w = np.zeros(self.X.shape[1])\n",
    "        self.samples = X.shape[0]\n",
    "        self.epochs = epochs\n",
    "        self.features = X.shape[1]+1\n",
    "        self.alpha = alpha\n",
    "    \n",
    "    def fit(self):\n",
    "        for epoch_counter in range (0,self.epochs):\n",
    "            for sample_counter in range(0,self.samples):\n",
    "                output = np.dot(self.X[sample_counter],self.w)-self.y[sample_counter]\n",
    "                for feature_counter in range(0,self.features):\n",
    "                    derivative = output*self.X[sample_counter][feature_counter]\n",
    "                    self.w[feature_counter]-=derivative*self.alpha\n",
    "            \n",
    "    def predict(self,X_test):\n",
    "        X_test1 = np.hstack((np.ones((X_test.shape[0],1)),X_test))\n",
    "        predictions = []\n",
    "        for x in X_test1:\n",
    "            predictions.append(np.dot(x,self.w))\n",
    "        return np.array(predictions)"
   ]
  },
  {
   "cell_type": "code",
   "execution_count": 7,
   "id": "de8f9735",
   "metadata": {},
   "outputs": [
    {
     "data": {
      "text/html": [
       "<style>#sk-container-id-1 {color: black;background-color: white;}#sk-container-id-1 pre{padding: 0;}#sk-container-id-1 div.sk-toggleable {background-color: white;}#sk-container-id-1 label.sk-toggleable__label {cursor: pointer;display: block;width: 100%;margin-bottom: 0;padding: 0.3em;box-sizing: border-box;text-align: center;}#sk-container-id-1 label.sk-toggleable__label-arrow:before {content: \"▸\";float: left;margin-right: 0.25em;color: #696969;}#sk-container-id-1 label.sk-toggleable__label-arrow:hover:before {color: black;}#sk-container-id-1 div.sk-estimator:hover label.sk-toggleable__label-arrow:before {color: black;}#sk-container-id-1 div.sk-toggleable__content {max-height: 0;max-width: 0;overflow: hidden;text-align: left;background-color: #f0f8ff;}#sk-container-id-1 div.sk-toggleable__content pre {margin: 0.2em;color: black;border-radius: 0.25em;background-color: #f0f8ff;}#sk-container-id-1 input.sk-toggleable__control:checked~div.sk-toggleable__content {max-height: 200px;max-width: 100%;overflow: auto;}#sk-container-id-1 input.sk-toggleable__control:checked~label.sk-toggleable__label-arrow:before {content: \"▾\";}#sk-container-id-1 div.sk-estimator input.sk-toggleable__control:checked~label.sk-toggleable__label {background-color: #d4ebff;}#sk-container-id-1 div.sk-label input.sk-toggleable__control:checked~label.sk-toggleable__label {background-color: #d4ebff;}#sk-container-id-1 input.sk-hidden--visually {border: 0;clip: rect(1px 1px 1px 1px);clip: rect(1px, 1px, 1px, 1px);height: 1px;margin: -1px;overflow: hidden;padding: 0;position: absolute;width: 1px;}#sk-container-id-1 div.sk-estimator {font-family: monospace;background-color: #f0f8ff;border: 1px dotted black;border-radius: 0.25em;box-sizing: border-box;margin-bottom: 0.5em;}#sk-container-id-1 div.sk-estimator:hover {background-color: #d4ebff;}#sk-container-id-1 div.sk-parallel-item::after {content: \"\";width: 100%;border-bottom: 1px solid gray;flex-grow: 1;}#sk-container-id-1 div.sk-label:hover label.sk-toggleable__label {background-color: #d4ebff;}#sk-container-id-1 div.sk-serial::before {content: \"\";position: absolute;border-left: 1px solid gray;box-sizing: border-box;top: 0;bottom: 0;left: 50%;z-index: 0;}#sk-container-id-1 div.sk-serial {display: flex;flex-direction: column;align-items: center;background-color: white;padding-right: 0.2em;padding-left: 0.2em;position: relative;}#sk-container-id-1 div.sk-item {position: relative;z-index: 1;}#sk-container-id-1 div.sk-parallel {display: flex;align-items: stretch;justify-content: center;background-color: white;position: relative;}#sk-container-id-1 div.sk-item::before, #sk-container-id-1 div.sk-parallel-item::before {content: \"\";position: absolute;border-left: 1px solid gray;box-sizing: border-box;top: 0;bottom: 0;left: 50%;z-index: -1;}#sk-container-id-1 div.sk-parallel-item {display: flex;flex-direction: column;z-index: 1;position: relative;background-color: white;}#sk-container-id-1 div.sk-parallel-item:first-child::after {align-self: flex-end;width: 50%;}#sk-container-id-1 div.sk-parallel-item:last-child::after {align-self: flex-start;width: 50%;}#sk-container-id-1 div.sk-parallel-item:only-child::after {width: 0;}#sk-container-id-1 div.sk-dashed-wrapped {border: 1px dashed gray;margin: 0 0.4em 0.5em 0.4em;box-sizing: border-box;padding-bottom: 0.4em;background-color: white;}#sk-container-id-1 div.sk-label label {font-family: monospace;font-weight: bold;display: inline-block;line-height: 1.2em;}#sk-container-id-1 div.sk-label-container {text-align: center;}#sk-container-id-1 div.sk-container {/* jupyter's `normalize.less` sets `[hidden] { display: none; }` but bootstrap.min.css set `[hidden] { display: none !important; }` so we also need the `!important` here to be able to override the default hidden behavior on the sphinx rendered scikit-learn.org. See: https://github.com/scikit-learn/scikit-learn/issues/21755 */display: inline-block !important;position: relative;}#sk-container-id-1 div.sk-text-repr-fallback {display: none;}</style><div id=\"sk-container-id-1\" class=\"sk-top-container\"><div class=\"sk-text-repr-fallback\"><pre>LinearRegression()</pre><b>In a Jupyter environment, please rerun this cell to show the HTML representation or trust the notebook. <br />On GitHub, the HTML representation is unable to render, please try loading this page with nbviewer.org.</b></div><div class=\"sk-container\" hidden><div class=\"sk-item\"><div class=\"sk-estimator sk-toggleable\"><input class=\"sk-toggleable__control sk-hidden--visually\" id=\"sk-estimator-id-1\" type=\"checkbox\" checked><label for=\"sk-estimator-id-1\" class=\"sk-toggleable__label sk-toggleable__label-arrow\">LinearRegression</label><div class=\"sk-toggleable__content\"><pre>LinearRegression()</pre></div></div></div></div></div>"
      ],
      "text/plain": [
       "LinearRegression()"
      ]
     },
     "execution_count": 7,
     "metadata": {},
     "output_type": "execute_result"
    }
   ],
   "source": [
    "myModel = Model(X_train,y_train,500,0.0001)\n",
    "model = LinearRegression()\n",
    "myModel.fit()\n",
    "model.fit(X_train,y_train)"
   ]
  },
  {
   "cell_type": "code",
   "execution_count": 8,
   "id": "6e8793dd",
   "metadata": {},
   "outputs": [
    {
     "name": "stdout",
     "output_type": "stream",
     "text": [
      "sklearn: 0.41460863629860056 myModel: 0.41471222029093174\n"
     ]
    },
    {
     "data": {
      "image/png": "[encoded data removed]",
      "text/plain": [
       "<Figure size 640x480 with 1 Axes>"
      ]
     },
     "metadata": {},
     "output_type": "display_data"
    }
   ],
   "source": [
    "myPredictions = myModel.predict(X_test)\n",
    "predictions = model.predict(X_test)\n",
    "plt.plot(predictions,myPredictions)\n",
    "print(f\"sklearn: {np.sqrt(mean_squared_error(y_test, predictions))} myModel: {np.sqrt(mean_squared_error(y_test, myPredictions))}\")"
   ]
  },
  {
   "cell_type": "code",
   "execution_count": 9,
   "id": "9a274d99",
   "metadata": {},
   "outputs": [],
   "source": [
    "def discriminant(x):\n",
    "    if x<0.5:\n",
    "        return 0\n",
    "    return 1"
   ]
  },
  {
   "cell_type": "code",
   "execution_count": 10,
   "id": "ee61a813",
   "metadata": {},
   "outputs": [
    {
     "data": {
      "text/plain": [
       "array([ 0.07855866,  0.12818042,  0.25708884,  0.30313807,  0.19391412,\n",
       "        0.41562126,  0.48559575,  0.31773338,  0.33230355,  0.32454585,\n",
       "        0.52539441,  0.09108955,  0.50759295,  0.06290463,  0.09739727,\n",
       "        0.70329049,  0.21315748,  0.1648745 ,  0.08127629,  0.63744099,\n",
       "        0.62894052,  0.240654  ,  0.40353721,  0.13834665,  0.20548457,\n",
       "        0.01759681,  0.09334301,  0.12675417,  0.2701436 ,  0.43530174,\n",
       "        0.68075121,  0.48431566,  0.47167513,  0.19844846,  0.02672287,\n",
       "        0.32047488,  0.19772883,  0.31966109,  0.56133769,  0.2189053 ,\n",
       "        0.22995447,  0.09442277,  0.10999285,  0.15868153,  0.2523931 ,\n",
       "        0.51328939,  0.13984846,  0.09177622,  0.65806128,  0.49755889,\n",
       "        0.39989849,  0.4789209 , -0.02872223,  0.52424834,  0.61005029,\n",
       "        0.05931197,  0.69717837,  0.464079  ,  0.42886157,  0.54123649,\n",
       "        0.66675501,  0.43726742,  0.57149645, -0.02958765,  0.58199488,\n",
       "        0.53133942,  0.25706946,  0.45934532,  0.12386412,  0.59782737,\n",
       "        0.24986783,  0.17335083,  0.6819306 ,  0.4071686 ,  0.2231381 ,\n",
       "        0.07156251,  0.89742166,  0.22979757,  0.0913703 ,  0.53628826,\n",
       "        0.40435156,  0.32501973,  0.18897515,  0.27827494,  0.15243216,\n",
       "        0.41512137,  0.20698923,  0.42607127,  0.03425461,  0.25119239,\n",
       "       -0.01452119,  0.52620138,  0.18842793,  0.19994307,  0.15471848,\n",
       "        0.2918563 ,  0.22038884,  0.58872709,  0.1744374 ,  0.49395175,\n",
       "       -0.02520317,  0.57821999,  0.26983379,  0.4160394 ,  0.43418428,\n",
       "        0.57146782,  0.26119989,  0.54275014,  0.31159797,  0.13122185,\n",
       "        0.38740436, -0.10121265,  0.19687119,  0.47757441,  0.42707631,\n",
       "        0.08937419,  0.22804162,  0.59925895,  0.30989826,  0.36549305,\n",
       "        0.24007129,  0.3867818 , -0.20873887,  0.3892142 ,  0.32605901,\n",
       "        0.64236324,  0.34039466,  0.49438504,  0.25732781,  0.2659872 ,\n",
       "        0.71380865,  0.50810084,  0.74807546,  0.33265777,  0.29676724,\n",
       "        0.58157379,  0.36973103,  0.34905017,  0.47627451,  0.44596455,\n",
       "        0.28476311,  0.31601319, -0.01563227,  0.30007091,  0.307275  ,\n",
       "       -0.02987183,  0.20749873,  0.35248481, -0.0805476 ,  0.65308194])"
      ]
     },
     "execution_count": 10,
     "metadata": {},
     "output_type": "execute_result"
    }
   ],
   "source": [
    "myPredictions"
   ]
  },
  {
   "cell_type": "code",
   "execution_count": 11,
   "id": "a38ae6ae",
   "metadata": {},
   "outputs": [
    {
     "data": {
      "text/plain": [
       "array([0, 0, 0, 0, 0, 0, 0, 0, 0, 0, 1, 0, 1, 0, 0, 1, 0, 0, 0, 1, 1, 0,\n",
       "       0, 0, 0, 0, 0, 0, 0, 0, 1, 0, 0, 0, 0, 0, 0, 0, 1, 0, 0, 0, 0, 0,\n",
       "       0, 1, 0, 0, 1, 0, 0, 0, 0, 1, 1, 0, 1, 0, 0, 1, 1, 0, 1, 0, 1, 1,\n",
       "       0, 0, 0, 1, 0, 0, 1, 0, 0, 0, 1, 0, 0, 1, 0, 0, 0, 0, 0, 0, 0, 0,\n",
       "       0, 0, 0, 1, 0, 0, 0, 0, 0, 1, 0, 0, 0, 1, 0, 0, 0, 1, 0, 1, 0, 0,\n",
       "       0, 0, 0, 0, 0, 0, 0, 1, 0, 0, 0, 0, 0, 0, 0, 1, 0, 0, 0, 0, 1, 1,\n",
       "       1, 0, 0, 1, 0, 0, 0, 0, 0, 0, 0, 0, 0, 0, 0, 0, 0, 1])"
      ]
     },
     "execution_count": 11,
     "metadata": {},
     "output_type": "execute_result"
    }
   ],
   "source": [
    "vectorized_discriminant = np.vectorize(discriminant)\n",
    "rounded_predictions = vectorized_discriminant(predictions)\n",
    "rounded_predictions"
   ]
  },
  {
   "cell_type": "code",
   "execution_count": 12,
   "id": "11a75e3b",
   "metadata": {},
   "outputs": [
    {
     "name": "stdout",
     "output_type": "stream",
     "text": [
      "              precision    recall  f1-score   support\n",
      "\n",
      "     class 0       0.77      0.91      0.83        99\n",
      "     class 1       0.73      0.47      0.57        51\n",
      "\n",
      "    accuracy                           0.76       150\n",
      "   macro avg       0.75      0.69      0.70       150\n",
      "weighted avg       0.75      0.76      0.74       150\n",
      "\n"
     ]
    }
   ],
   "source": [
    "print(classification_report(y_test, rounded_predictions, target_names=[\"class 0\",\"class 1\"]))"
   ]
  },
  {
   "cell_type": "code",
   "execution_count": 13,
   "id": "b7b78d02",
   "metadata": {},
   "outputs": [
    {
     "data": {
      "text/plain": [
       "array([0, 0, 0, 0, 0, 0, 0, 0, 0, 0, 1, 0, 1, 0, 0, 1, 0, 0, 0, 1, 1, 0,\n",
       "       0, 0, 0, 0, 0, 0, 0, 0, 1, 0, 0, 0, 0, 0, 0, 0, 1, 0, 0, 0, 0, 0,\n",
       "       0, 1, 0, 0, 1, 0, 0, 0, 0, 1, 1, 0, 1, 0, 0, 1, 1, 0, 1, 0, 1, 1,\n",
       "       0, 0, 0, 1, 0, 0, 1, 0, 0, 0, 1, 0, 0, 1, 0, 0, 0, 0, 0, 0, 0, 0,\n",
       "       0, 0, 0, 1, 0, 0, 0, 0, 0, 1, 0, 0, 0, 1, 0, 0, 0, 1, 0, 1, 0, 0,\n",
       "       0, 0, 0, 0, 0, 0, 0, 1, 0, 0, 0, 0, 0, 0, 0, 1, 0, 0, 0, 0, 1, 1,\n",
       "       1, 0, 0, 1, 0, 0, 0, 0, 0, 0, 0, 0, 0, 0, 0, 0, 0, 1])"
      ]
     },
     "execution_count": 13,
     "metadata": {},
     "output_type": "execute_result"
    }
   ],
   "source": [
    "rounded_mypredictions = vectorized_discriminant(predictions)\n",
    "rounded_mypredictions"
   ]
  },
  {
   "cell_type": "code",
   "execution_count": 14,
   "id": "39ad53ab",
   "metadata": {},
   "outputs": [
    {
     "name": "stdout",
     "output_type": "stream",
     "text": [
      "              precision    recall  f1-score   support\n",
      "\n",
      "     class 0       0.77      0.91      0.83        99\n",
      "     class 1       0.73      0.47      0.57        51\n",
      "\n",
      "    accuracy                           0.76       150\n",
      "   macro avg       0.75      0.69      0.70       150\n",
      "weighted avg       0.75      0.76      0.74       150\n",
      "\n"
     ]
    }
   ],
   "source": [
    "print(classification_report(y_test, rounded_mypredictions, target_names=[\"class 0\",\"class 1\"]))"
   ]
  },
  {
   "cell_type": "code",
   "execution_count": null,
   "id": "447cda28",
   "metadata": {},
   "outputs": [],
   "source": []
  }
 ],
 "metadata": {
  "kernelspec": {
   "display_name": "Python 3 (ipykernel)",
   "language": "python",
   "name": "python3"
  },
  "language_info": {
   "codemirror_mode": {
    "name": "ipython",
    "version": 3
   },
   "file_extension": ".py",
   "mimetype": "text/x-python",
   "name": "python",
   "nbconvert_exporter": "python",
   "pygments_lexer": "ipython3",
   "version": "3.10.9"
  }
 },
 "nbformat": 4,
 "nbformat_minor": 5
}
